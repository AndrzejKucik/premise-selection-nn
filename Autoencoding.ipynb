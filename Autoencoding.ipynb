{
 "cells": [
  {
   "cell_type": "code",
   "execution_count": null,
   "metadata": {},
   "outputs": [],
   "source": [
    "#Import necessary packages.\n",
    "\n",
    "from keras.models import Sequential\n",
    "from keras.layers import Dense\n",
    "from keras.initializers import he_uniform\n",
    "from keras.optimizers import RMSprop\n",
    "import matplotlib.pyplot as plt\n",
    "import numpy as np\n",
    "from random import shuffle\n",
    "\n",
    "%matplotlib inline"
   ]
  },
  {
   "cell_type": "code",
   "execution_count": null,
   "metadata": {},
   "outputs": [],
   "source": [
    "#Load functional signatures of premises.\n",
    "\n",
    "X = np.load('Fun.npy')\n",
    "\n",
    "(num_contexts, num_fun) = X.shape\n",
    "print(X.shape)"
   ]
  },
  {
   "cell_type": "code",
   "execution_count": null,
   "metadata": {},
   "outputs": [],
   "source": [
    "#Select training and test samples.\n",
    "\n",
    "indices = list(range(num_contexts))\n",
    "shuffle(indices)\n",
    "\n",
    "X_train = X[indices][: int(num_contexts * 0.8)]\n",
    "X_test = X[indices][int(num_contexts * 0.8):]"
   ]
  },
  {
   "cell_type": "code",
   "execution_count": null,
   "metadata": {},
   "outputs": [],
   "source": [
    "#Autoencoder.\n",
    "\n",
    "model = Sequential()\n",
    "model.add(Dense(256, kernel_initializer = he_uniform(), activation = 'tanh', input_shape = (num_fun,)))\n",
    "model.add(Dense(num_fun, kernel_initializer = he_uniform(), activation = 'relu'))\n",
    "model.compile(optimizer = RMSprop(decay = 1e-8), loss = 'mse', metrics = ['accuracy'])\n",
    "model.summary()\n",
    "\n",
    "history = model.fit(X_train, X_train, epochs = 50, batch_size = 2048, shuffle = True, verbose = 0)\n",
    "\n",
    "history_dict = history.history\n",
    "loss_values = history_dict['loss']\n",
    "acc_values = history_dict['acc']\n",
    "\n",
    "epochs = range(1, len(acc_values) + 1)\n",
    "\n",
    "plt.plot(epochs, loss_values, 'bo', label = 'Training loss')\n",
    "plt.title('Training loss')\n",
    "plt.xlabel('Epochs')\n",
    "plt.ylabel('Loss')\n",
    "plt.legend()\n",
    "\n",
    "plt.show()\n",
    "\n",
    "plt.clf()\n",
    "\n",
    "plt.plot(epochs, acc_values, 'bo', label = 'Training accuracy')\n",
    "plt.title('Training accuracy')\n",
    "plt.xlabel('Epochs')\n",
    "plt.ylabel('Accuracy')\n",
    "plt.legend()\n",
    "\n",
    "plt.show()"
   ]
  },
  {
   "cell_type": "code",
   "execution_count": null,
   "metadata": {},
   "outputs": [],
   "source": [
    "#Test autoencoder.\n",
    "\n",
    "test_loss, test_acc = model.evaluate(X_test, X_test, verbose = 0)\n",
    "print('Test loss:', str(round(test_loss, 4)) + '.')\n",
    "print('Test accuracy:', str(round(100*test_acc, 2)) + '%.')"
   ]
  },
  {
   "cell_type": "code",
   "execution_count": null,
   "metadata": {},
   "outputs": [],
   "source": [
    "#Save embedded functional signatures.\n",
    "\n",
    "weights = model.layers[0].get_weights()\n",
    "X = np.tanh(np.dot(X, weights[0]) + weights[1]).astype('float32')\n",
    "print(X.shape)\n",
    "\n",
    "np.save('Conj_tokens_auto', X[:32524])\n",
    "np.save('Ax_tokens_auto', X[32524:])"
   ]
  }
 ],
 "metadata": {
  "kernelspec": {
   "display_name": "Python 3",
   "language": "python",
   "name": "python3"
  },
  "language_info": {
   "codemirror_mode": {
    "name": "ipython",
    "version": 3
   },
   "file_extension": ".py",
   "mimetype": "text/x-python",
   "name": "python",
   "nbconvert_exporter": "python",
   "pygments_lexer": "ipython3",
   "version": "3.6.4"
  }
 },
 "nbformat": 4,
 "nbformat_minor": 2
}
