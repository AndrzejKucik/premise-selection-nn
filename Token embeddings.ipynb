{
 "cells": [
  {
   "cell_type": "code",
   "execution_count": null,
   "metadata": {},
   "outputs": [],
   "source": [
    "#Import necessary packages.\n",
    "\n",
    "from keras.models import Sequential\n",
    "from keras.layers import Dense\n",
    "from keras.initializers import he_uniform\n",
    "from keras.optimizers import RMSprop\n",
    "import matplotlib.pyplot as plt\n",
    "import numpy as np\n",
    "\n",
    "%matplotlib inline"
   ]
  },
  {
   "cell_type": "code",
   "execution_count": null,
   "metadata": {},
   "outputs": [],
   "source": [
    "#Load functional signatures of premises.\n",
    "\n",
    "X = np.load('Fun.npy')\n",
    "\n",
    "(num_contexts, num_fun) = X.shape\n",
    "print(X.shape)"
   ]
  },
  {
   "cell_type": "code",
   "execution_count": null,
   "metadata": {},
   "outputs": [],
   "source": [
    "#Form context distributions for each functor symbol.\n",
    "\n",
    "output_data = np.zeros((num_fun, num_fun), dtype = 'float32')\n",
    "\n",
    "for n in range(num_fun):\n",
    "    for m in range(num_contexts):\n",
    "        if X[m, n] != 0:\n",
    "            output_data[n] += X[m]\n",
    "    output_data[n] /= np.sum(output_data[n])\n",
    "    \n",
    "np.save('Output_data', output_data)"
   ]
  },
  {
   "cell_type": "code",
   "execution_count": null,
   "metadata": {},
   "outputs": [],
   "source": [
    "#Define input and output data.\n",
    "\n",
    "input_data = np.identity(num_fun)\n",
    "#output_data = np.load('Output_data.npy')"
   ]
  },
  {
   "cell_type": "code",
   "execution_count": null,
   "metadata": {},
   "outputs": [],
   "source": [
    "#Embedding model.\n",
    "\n",
    "model = Sequential()\n",
    "model.add(Dense(256, kernel_initializer = he_uniform(), activation = 'tanh', input_shape = (num_fun,)))\n",
    "model.add(Dense(num_fun, kernel_initializer = he_uniform(), activation = 'softmax'))\n",
    "model.compile(optimizer = RMSprop(decay = 1e-8), loss = 'categorical_crossentropy', metrics = ['accuracy'])\n",
    "model.summary()\n",
    "\n",
    "history = model.fit(np.identity(num_fun), output_data, epochs = 150, batch_size = 2048, shuffle = True, verbose = 0)\n",
    "\n",
    "history_dict = history.history\n",
    "loss_values = history_dict['loss']\n",
    "acc_values = history_dict['acc']\n",
    "\n",
    "epochs = range(1, len(acc_values) + 1)\n",
    "\n",
    "plt.plot(epochs, loss_values, 'bo', label = 'Training loss')\n",
    "plt.title('Training loss')\n",
    "plt.xlabel('Epochs')\n",
    "plt.ylabel('Loss')\n",
    "plt.legend()\n",
    "\n",
    "plt.show()\n",
    "\n",
    "plt.clf()\n",
    "\n",
    "plt.plot(epochs, acc_values, 'bo', label = 'Training accuracy')\n",
    "plt.title('Training accuracy')\n",
    "plt.xlabel('Epochs')\n",
    "plt.ylabel('Accuracy')\n",
    "plt.legend()\n",
    "\n",
    "plt.show()"
   ]
  },
  {
   "cell_type": "code",
   "execution_count": null,
   "metadata": {},
   "outputs": [],
   "source": [
    "#Test context distribution network.\n",
    "\n",
    "test_loss, test_acc = model.evaluate(np.identity(num_fun), output_data, verbose = 0)\n",
    "print('Test loss:', str(round(test_loss, 4)) + '.')\n",
    "print('Test accuracy:', str(round(100*test_acc, 2)) + '%.')"
   ]
  },
  {
   "cell_type": "code",
   "execution_count": null,
   "metadata": {},
   "outputs": [],
   "source": [
    "#Save embedded functional signatures.\n",
    "\n",
    "weights = model.layers[0].get_weights()\n",
    "X = np.tanh(np.dot(X, weights[0]) + weights[1])\n",
    "print(X.shape)\n",
    "\n",
    "np.save('Conj_tokens', X[:32524])\n",
    "np.save('Ax_tokens', X[32524:])"
   ]
  }
 ],
 "metadata": {
  "kernelspec": {
   "display_name": "Python 3",
   "language": "python",
   "name": "python3"
  },
  "language_info": {
   "codemirror_mode": {
    "name": "ipython",
    "version": 3
   },
   "file_extension": ".py",
   "mimetype": "text/x-python",
   "name": "python",
   "nbconvert_exporter": "python",
   "pygments_lexer": "ipython3",
   "version": "3.6.4"
  }
 },
 "nbformat": 4,
 "nbformat_minor": 2
}
